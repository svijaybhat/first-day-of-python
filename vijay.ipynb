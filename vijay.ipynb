{
 "cells": [
  {
   "cell_type": "code",
   "execution_count": 28,
   "id": "d8a14c6c",
   "metadata": {},
   "outputs": [],
   "source": [
    "c=6j"
   ]
  },
  {
   "cell_type": "code",
   "execution_count": 29,
   "id": "758c7928",
   "metadata": {},
   "outputs": [
    {
     "data": {
      "text/plain": [
       "6j"
      ]
     },
     "execution_count": 29,
     "metadata": {},
     "output_type": "execute_result"
    }
   ],
   "source": [
    "c"
   ]
  },
  {
   "cell_type": "code",
   "execution_count": 30,
   "id": "ab8ccad6",
   "metadata": {},
   "outputs": [
    {
     "data": {
      "text/plain": [
       "complex"
      ]
     },
     "execution_count": 30,
     "metadata": {},
     "output_type": "execute_result"
    }
   ],
   "source": [
    "type(c)"
   ]
  },
  {
   "cell_type": "code",
   "execution_count": 31,
   "id": "2ec96df9",
   "metadata": {},
   "outputs": [
    {
     "data": {
      "text/plain": [
       "0.0"
      ]
     },
     "execution_count": 31,
     "metadata": {},
     "output_type": "execute_result"
    }
   ],
   "source": [
    "c."
   ]
  },
  {
   "cell_type": "code",
   "execution_count": 32,
   "id": "bc6622f1",
   "metadata": {},
   "outputs": [
    {
     "data": {
      "text/plain": [
       "0.0"
      ]
     },
     "execution_count": 32,
     "metadata": {},
     "output_type": "execute_result"
    }
   ],
   "source": [
    "c.real"
   ]
  },
  {
   "cell_type": "code",
   "execution_count": 34,
   "id": "6ff6b818",
   "metadata": {},
   "outputs": [],
   "source": [
    "a='vijay'"
   ]
  },
  {
   "cell_type": "code",
   "execution_count": 35,
   "id": "9bbdf7e9",
   "metadata": {},
   "outputs": [
    {
     "data": {
      "text/plain": [
       "'vijay'"
      ]
     },
     "execution_count": 35,
     "metadata": {},
     "output_type": "execute_result"
    }
   ],
   "source": [
    "a"
   ]
  },
  {
   "cell_type": "code",
   "execution_count": 38,
   "id": "9ad59f42",
   "metadata": {},
   "outputs": [],
   "source": [
    "b=str'4'"
   ]
  },
  {
   "cell_type": "code",
   "execution_count": 39,
   "id": "dae81452",
   "metadata": {},
   "outputs": [
    {
     "data": {
      "text/plain": [
       "'vijay4'"
      ]
     },
     "execution_count": 39,
     "metadata": {},
     "output_type": "execute_result"
    }
   ],
   "source": [
    "a+b"
   ]
  },
  {
   "cell_type": "code",
   "execution_count": 40,
   "id": "bf8fce0d",
   "metadata": {},
   "outputs": [
    {
     "data": {
      "text/plain": [
       "'4vijay'"
      ]
     },
     "execution_count": 40,
     "metadata": {},
     "output_type": "execute_result"
    }
   ],
   "source": [
    "b+a"
   ]
  },
  {
   "cell_type": "code",
   "execution_count": 41,
   "id": "e8939549",
   "metadata": {},
   "outputs": [
    {
     "data": {
      "text/plain": [
       "'vijay4'"
      ]
     },
     "execution_count": 41,
     "metadata": {},
     "output_type": "execute_result"
    }
   ],
   "source": [
    "a+b"
   ]
  },
  {
   "cell_type": "code",
   "execution_count": 42,
   "id": "735519ad",
   "metadata": {},
   "outputs": [
    {
     "data": {
      "text/plain": [
       "2"
      ]
     },
     "execution_count": 42,
     "metadata": {},
     "output_type": "execute_result"
    }
   ],
   "source": [
    "True+True"
   ]
  },
  {
   "cell_type": "code",
   "execution_count": 46,
   "id": "db0ac4da",
   "metadata": {},
   "outputs": [
    {
     "ename": "SyntaxError",
     "evalue": "cannot assign to True (Temp/ipykernel_19952/511079677.py, line 1)",
     "output_type": "error",
     "traceback": [
      "\u001b[1;36m  File \u001b[1;32m\"C:\\Users\\sbhatam\\AppData\\Local\\Temp/ipykernel_19952/511079677.py\"\u001b[1;36m, line \u001b[1;32m1\u001b[0m\n\u001b[1;33m    True='2'\u001b[0m\n\u001b[1;37m    ^\u001b[0m\n\u001b[1;31mSyntaxError\u001b[0m\u001b[1;31m:\u001b[0m cannot assign to True\n"
     ]
    }
   ],
   "source": [
    "True='2'"
   ]
  },
  {
   "cell_type": "code",
   "execution_count": 47,
   "id": "5d5f296c",
   "metadata": {},
   "outputs": [
    {
     "data": {
      "text/plain": [
       "1"
      ]
     },
     "execution_count": 47,
     "metadata": {},
     "output_type": "execute_result"
    }
   ],
   "source": [
    "True + False"
   ]
  },
  {
   "cell_type": "code",
   "execution_count": 51,
   "id": "6e75e764",
   "metadata": {},
   "outputs": [
    {
     "name": "stdout",
     "output_type": "stream",
     "text": [
      "foiusdhfiodshf\n"
     ]
    },
    {
     "data": {
      "text/plain": [
       "'foiusdhfiodshf'"
      ]
     },
     "execution_count": 51,
     "metadata": {},
     "output_type": "execute_result"
    }
   ],
   "source": [
    "input()"
   ]
  },
  {
   "cell_type": "code",
   "execution_count": 52,
   "id": "20ff776b",
   "metadata": {},
   "outputs": [
    {
     "name": "stdout",
     "output_type": "stream",
     "text": [
      "ifjdesifhdsif\n"
     ]
    }
   ],
   "source": [
    "a=input()"
   ]
  },
  {
   "cell_type": "code",
   "execution_count": 53,
   "id": "8f53b3f1",
   "metadata": {},
   "outputs": [
    {
     "data": {
      "text/plain": [
       "'ifjdesifhdsif'"
      ]
     },
     "execution_count": 53,
     "metadata": {},
     "output_type": "execute_result"
    }
   ],
   "source": [
    "a"
   ]
  },
  {
   "cell_type": "code",
   "execution_count": 54,
   "id": "caddb8fd",
   "metadata": {},
   "outputs": [
    {
     "name": "stdout",
     "output_type": "stream",
     "text": [
      "45\n"
     ]
    }
   ],
   "source": [
    "e=input()"
   ]
  },
  {
   "cell_type": "code",
   "execution_count": 55,
   "id": "b24deee7",
   "metadata": {},
   "outputs": [],
   "source": [
    "r= '45'"
   ]
  },
  {
   "cell_type": "code",
   "execution_count": 56,
   "id": "2582b218",
   "metadata": {},
   "outputs": [
    {
     "data": {
      "text/plain": [
       "str"
      ]
     },
     "execution_count": 56,
     "metadata": {},
     "output_type": "execute_result"
    }
   ],
   "source": [
    "type(r)"
   ]
  },
  {
   "cell_type": "code",
   "execution_count": 61,
   "id": "c40e199a",
   "metadata": {},
   "outputs": [
    {
     "data": {
      "text/plain": [
       "'C:\\\\Users\\\\sbhatam'"
      ]
     },
     "execution_count": 61,
     "metadata": {},
     "output_type": "execute_result"
    }
   ],
   "source": [
    "pwd()"
   ]
  },
  {
   "cell_type": "code",
   "execution_count": 64,
   "id": "22844b3f",
   "metadata": {},
   "outputs": [],
   "source": [
    "a=1\n",
    "b='vijay'\n",
    "c=3\n",
    "d=4"
   ]
  },
  {
   "cell_type": "code",
   "execution_count": 67,
   "id": "bf857683",
   "metadata": {},
   "outputs": [
    {
     "ename": "ValueError",
     "evalue": "invalid literal for int() with base 10: 'b'",
     "output_type": "error",
     "traceback": [
      "\u001b[1;31m---------------------------------------------------------------------------\u001b[0m",
      "\u001b[1;31mValueError\u001b[0m                                Traceback (most recent call last)",
      "\u001b[1;32m~\\AppData\\Local\\Temp/ipykernel_19952/2037633088.py\u001b[0m in \u001b[0;36m<module>\u001b[1;34m\u001b[0m\n\u001b[1;32m----> 1\u001b[1;33m \u001b[0mint\u001b[0m\u001b[1;33m(\u001b[0m\u001b[1;34m'b'\u001b[0m\u001b[1;33m)\u001b[0m\u001b[1;33m\u001b[0m\u001b[1;33m\u001b[0m\u001b[0m\n\u001b[0m",
      "\u001b[1;31mValueError\u001b[0m: invalid literal for int() with base 10: 'b'"
     ]
    }
   ],
   "source": [
    "int('b')"
   ]
  },
  {
   "cell_type": "code",
   "execution_count": 68,
   "id": "c0a1e33a",
   "metadata": {},
   "outputs": [],
   "source": [
    "a,b,c,d,e=1,2,3,4,5"
   ]
  },
  {
   "cell_type": "code",
   "execution_count": 69,
   "id": "879785f2",
   "metadata": {},
   "outputs": [
    {
     "data": {
      "text/plain": [
       "10"
      ]
     },
     "execution_count": 69,
     "metadata": {},
     "output_type": "execute_result"
    }
   ],
   "source": [
    "a+b+c+d"
   ]
  },
  {
   "cell_type": "code",
   "execution_count": 70,
   "id": "6041844e",
   "metadata": {},
   "outputs": [
    {
     "data": {
      "text/plain": [
       "2"
      ]
     },
     "execution_count": 70,
     "metadata": {},
     "output_type": "execute_result"
    }
   ],
   "source": [
    "True+True"
   ]
  },
  {
   "cell_type": "code",
   "execution_count": 71,
   "id": "f7a6406c",
   "metadata": {},
   "outputs": [
    {
     "data": {
      "text/plain": [
       "1"
      ]
     },
     "execution_count": 71,
     "metadata": {},
     "output_type": "execute_result"
    }
   ],
   "source": [
    "True+False"
   ]
  },
  {
   "cell_type": "code",
   "execution_count": 72,
   "id": "cf55782f",
   "metadata": {},
   "outputs": [
    {
     "name": "stdout",
     "output_type": "stream",
     "text": [
      "1idsfijdsifdj\n"
     ]
    },
    {
     "data": {
      "text/plain": [
       "'idsfijdsifdj'"
      ]
     },
     "execution_count": 72,
     "metadata": {},
     "output_type": "execute_result"
    }
   ],
   "source": [
    "input(a)"
   ]
  },
  {
   "cell_type": "code",
   "execution_count": 73,
   "id": "1677d775",
   "metadata": {},
   "outputs": [
    {
     "data": {
      "text/plain": [
       "3"
      ]
     },
     "execution_count": 73,
     "metadata": {},
     "output_type": "execute_result"
    }
   ],
   "source": [
    "a+b"
   ]
  },
  {
   "cell_type": "code",
   "execution_count": 82,
   "id": "824aee64",
   "metadata": {},
   "outputs": [],
   "source": [
    "v= 'my name is vijay'"
   ]
  },
  {
   "cell_type": "code",
   "execution_count": 75,
   "id": "16f6bade",
   "metadata": {},
   "outputs": [
    {
     "data": {
      "text/plain": [
       "str"
      ]
     },
     "execution_count": 75,
     "metadata": {},
     "output_type": "execute_result"
    }
   ],
   "source": [
    "type(v)"
   ]
  },
  {
   "cell_type": "code",
   "execution_count": 76,
   "id": "3ecaec5b",
   "metadata": {},
   "outputs": [
    {
     "data": {
      "text/plain": [
       "'v'"
      ]
     },
     "execution_count": 76,
     "metadata": {},
     "output_type": "execute_result"
    }
   ],
   "source": [
    "v[0]"
   ]
  },
  {
   "cell_type": "code",
   "execution_count": 78,
   "id": "85abae03",
   "metadata": {},
   "outputs": [
    {
     "data": {
      "text/plain": [
       "'y'"
      ]
     },
     "execution_count": 78,
     "metadata": {},
     "output_type": "execute_result"
    }
   ],
   "source": [
    "v[4]"
   ]
  },
  {
   "cell_type": "code",
   "execution_count": 79,
   "id": "3db54bc4",
   "metadata": {},
   "outputs": [
    {
     "data": {
      "text/plain": [
       "'y'"
      ]
     },
     "execution_count": 79,
     "metadata": {},
     "output_type": "execute_result"
    }
   ],
   "source": [
    "v[-1]"
   ]
  },
  {
   "cell_type": "code",
   "execution_count": 80,
   "id": "736ea87e",
   "metadata": {},
   "outputs": [
    {
     "data": {
      "text/plain": [
       "'a'"
      ]
     },
     "execution_count": 80,
     "metadata": {},
     "output_type": "execute_result"
    }
   ],
   "source": [
    "v[-2]"
   ]
  },
  {
   "cell_type": "code",
   "execution_count": 81,
   "id": "9859c29a",
   "metadata": {},
   "outputs": [
    {
     "data": {
      "text/plain": [
       "'vijay'"
      ]
     },
     "execution_count": 81,
     "metadata": {},
     "output_type": "execute_result"
    }
   ],
   "source": [
    "v[0:9]"
   ]
  },
  {
   "cell_type": "code",
   "execution_count": 84,
   "id": "9025bd4b",
   "metadata": {},
   "outputs": [
    {
     "data": {
      "text/plain": [
       "'my name is vijay'"
      ]
     },
     "execution_count": 84,
     "metadata": {},
     "output_type": "execute_result"
    }
   ],
   "source": [
    "v[0:100:1]"
   ]
  },
  {
   "cell_type": "code",
   "execution_count": 87,
   "id": "1889db1b",
   "metadata": {},
   "outputs": [
    {
     "data": {
      "text/plain": [
       "'m aei ia'"
      ]
     },
     "execution_count": 87,
     "metadata": {},
     "output_type": "execute_result"
    }
   ],
   "source": [
    "v[0:100:2]"
   ]
  },
  {
   "cell_type": "code",
   "execution_count": 88,
   "id": "8ac0c5c9",
   "metadata": {},
   "outputs": [
    {
     "data": {
      "text/plain": [
       "''"
      ]
     },
     "execution_count": 88,
     "metadata": {},
     "output_type": "execute_result"
    }
   ],
   "source": [
    "v[0:100:-1]"
   ]
  },
  {
   "cell_type": "code",
   "execution_count": 91,
   "id": "34f27441",
   "metadata": {},
   "outputs": [
    {
     "data": {
      "text/plain": [
       "'m'"
      ]
     },
     "execution_count": 91,
     "metadata": {},
     "output_type": "execute_result"
    }
   ],
   "source": [
    "v[0:-100:-5]"
   ]
  },
  {
   "cell_type": "code",
   "execution_count": 92,
   "id": "8a73a3f1",
   "metadata": {},
   "outputs": [
    {
     "data": {
      "text/plain": [
       "'my name is vijay'"
      ]
     },
     "execution_count": 92,
     "metadata": {},
     "output_type": "execute_result"
    }
   ],
   "source": [
    "v[::]"
   ]
  },
  {
   "cell_type": "code",
   "execution_count": 93,
   "id": "35f4381c",
   "metadata": {},
   "outputs": [
    {
     "data": {
      "text/plain": [
       "'yajiv si eman ym'"
      ]
     },
     "execution_count": 93,
     "metadata": {},
     "output_type": "execute_result"
    }
   ],
   "source": [
    "v[::-1]"
   ]
  },
  {
   "cell_type": "code",
   "execution_count": 94,
   "id": "d619053a",
   "metadata": {},
   "outputs": [
    {
     "data": {
      "text/plain": [
       "'ajiv si '"
      ]
     },
     "execution_count": 94,
     "metadata": {},
     "output_type": "execute_result"
    }
   ],
   "source": [
    "v[-2:-10:-1]"
   ]
  },
  {
   "cell_type": "code",
   "execution_count": 95,
   "id": "757f8434",
   "metadata": {},
   "outputs": [
    {
     "data": {
      "text/plain": [
       "'ai i'"
      ]
     },
     "execution_count": 95,
     "metadata": {},
     "output_type": "execute_result"
    }
   ],
   "source": [
    "v[-2:-10:-2]"
   ]
  },
  {
   "cell_type": "code",
   "execution_count": 96,
   "id": "42cc5a6d",
   "metadata": {},
   "outputs": [
    {
     "data": {
      "text/plain": [
       "' aei'"
      ]
     },
     "execution_count": 96,
     "metadata": {},
     "output_type": "execute_result"
    }
   ],
   "source": [
    "v[2:10:2]"
   ]
  },
  {
   "cell_type": "code",
   "execution_count": 100,
   "id": "833d17d8",
   "metadata": {},
   "outputs": [
    {
     "data": {
      "text/plain": [
       "11"
      ]
     },
     "execution_count": 100,
     "metadata": {},
     "output_type": "execute_result"
    }
   ],
   "source": [
    "v.find('vijay')"
   ]
  },
  {
   "cell_type": "code",
   "execution_count": 102,
   "id": "293b9d69",
   "metadata": {},
   "outputs": [
    {
     "data": {
      "text/plain": [
       "2"
      ]
     },
     "execution_count": 102,
     "metadata": {},
     "output_type": "execute_result"
    }
   ],
   "source": [
    "v.count('m')"
   ]
  },
  {
   "cell_type": "code",
   "execution_count": 104,
   "id": "546d3243",
   "metadata": {},
   "outputs": [
    {
     "data": {
      "text/plain": [
       "'my name is vijay'"
      ]
     },
     "execution_count": 104,
     "metadata": {},
     "output_type": "execute_result"
    }
   ],
   "source": [
    "v"
   ]
  },
  {
   "cell_type": "code",
   "execution_count": 108,
   "id": "dffc591e",
   "metadata": {},
   "outputs": [],
   "source": [
    "p=v.split()"
   ]
  },
  {
   "cell_type": "code",
   "execution_count": 109,
   "id": "9c878ff6",
   "metadata": {},
   "outputs": [
    {
     "data": {
      "text/plain": [
       "['my', 'name', 'is', 'vijay']"
      ]
     },
     "execution_count": 109,
     "metadata": {},
     "output_type": "execute_result"
    }
   ],
   "source": [
    "p[::]"
   ]
  },
  {
   "cell_type": "code",
   "execution_count": 110,
   "id": "274cd5bb",
   "metadata": {},
   "outputs": [
    {
     "data": {
      "text/plain": [
       "['my', 'name', 'is', 'vijay']"
      ]
     },
     "execution_count": 110,
     "metadata": {},
     "output_type": "execute_result"
    }
   ],
   "source": [
    "p[0:10]"
   ]
  },
  {
   "cell_type": "code",
   "execution_count": 115,
   "id": "2737a0b1",
   "metadata": {},
   "outputs": [
    {
     "data": {
      "text/plain": [
       "['my', 'name', 'is', 'vijay']"
      ]
     },
     "execution_count": 115,
     "metadata": {},
     "output_type": "execute_result"
    }
   ],
   "source": [
    "p[0:5]"
   ]
  },
  {
   "cell_type": "code",
   "execution_count": 117,
   "id": "3ef12361",
   "metadata": {},
   "outputs": [
    {
     "data": {
      "text/plain": [
       "['my n', 'me is vij', 'y']"
      ]
     },
     "execution_count": 117,
     "metadata": {},
     "output_type": "execute_result"
    }
   ],
   "source": [
    "v.split('a')"
   ]
  },
  {
   "cell_type": "code",
   "execution_count": 118,
   "id": "cbe59fce",
   "metadata": {},
   "outputs": [
    {
     "data": {
      "text/plain": [
       "'MY NAME IS VIJAY'"
      ]
     },
     "execution_count": 118,
     "metadata": {},
     "output_type": "execute_result"
    }
   ],
   "source": [
    "v.upper()"
   ]
  },
  {
   "cell_type": "code",
   "execution_count": 125,
   "id": "a8dfa742",
   "metadata": {},
   "outputs": [],
   "source": [
    "v='vijay'"
   ]
  },
  {
   "cell_type": "code",
   "execution_count": 123,
   "id": "f2a66015",
   "metadata": {},
   "outputs": [
    {
     "data": {
      "text/plain": [
       "'vIJAY'"
      ]
     },
     "execution_count": 123,
     "metadata": {},
     "output_type": "execute_result"
    }
   ],
   "source": [
    "v.swapcase()"
   ]
  },
  {
   "cell_type": "code",
   "execution_count": 126,
   "id": "e655dc03",
   "metadata": {},
   "outputs": [
    {
     "data": {
      "text/plain": [
       "'vijay'"
      ]
     },
     "execution_count": 126,
     "metadata": {},
     "output_type": "execute_result"
    }
   ],
   "source": [
    "v"
   ]
  },
  {
   "cell_type": "code",
   "execution_count": 127,
   "id": "8450dbf9",
   "metadata": {},
   "outputs": [
    {
     "data": {
      "text/plain": [
       "'Vijay'"
      ]
     },
     "execution_count": 127,
     "metadata": {},
     "output_type": "execute_result"
    }
   ],
   "source": [
    "v.title()"
   ]
  },
  {
   "cell_type": "code",
   "execution_count": 131,
   "id": "30a6c730",
   "metadata": {},
   "outputs": [],
   "source": [
    "v= 'my name is vijay bhat'"
   ]
  },
  {
   "cell_type": "code",
   "execution_count": 133,
   "id": "cf053a03",
   "metadata": {},
   "outputs": [
    {
     "data": {
      "text/plain": [
       "['my', 'name', 'is', 'vijay', 'bhat']"
      ]
     },
     "execution_count": 133,
     "metadata": {},
     "output_type": "execute_result"
    }
   ],
   "source": [
    "v.split()"
   ]
  },
  {
   "cell_type": "code",
   "execution_count": 134,
   "id": "9fbcf971",
   "metadata": {},
   "outputs": [
    {
     "data": {
      "text/plain": [
       "3"
      ]
     },
     "execution_count": 134,
     "metadata": {},
     "output_type": "execute_result"
    }
   ],
   "source": [
    "v.find('n')"
   ]
  },
  {
   "cell_type": "code",
   "execution_count": 139,
   "id": "b5fc5cc0",
   "metadata": {},
   "outputs": [],
   "source": [
    "v=' vijay '"
   ]
  },
  {
   "cell_type": "code",
   "execution_count": 138,
   "id": "3d0cc4d9",
   "metadata": {},
   "outputs": [
    {
     "data": {
      "text/plain": [
       "'vijay'"
      ]
     },
     "execution_count": 138,
     "metadata": {},
     "output_type": "execute_result"
    }
   ],
   "source": [
    "v[::]"
   ]
  },
  {
   "cell_type": "code",
   "execution_count": 140,
   "id": "b8e87e01",
   "metadata": {},
   "outputs": [
    {
     "data": {
      "text/plain": [
       "'vijay'"
      ]
     },
     "execution_count": 140,
     "metadata": {},
     "output_type": "execute_result"
    }
   ],
   "source": [
    "v.strip()"
   ]
  },
  {
   "cell_type": "code",
   "execution_count": 141,
   "id": "4a24c884",
   "metadata": {},
   "outputs": [
    {
     "data": {
      "text/plain": [
       "' vijay'"
      ]
     },
     "execution_count": 141,
     "metadata": {},
     "output_type": "execute_result"
    }
   ],
   "source": [
    "v.rstrip()"
   ]
  },
  {
   "cell_type": "code",
   "execution_count": 142,
   "id": "765b1108",
   "metadata": {},
   "outputs": [
    {
     "data": {
      "text/plain": [
       "'vijay '"
      ]
     },
     "execution_count": 142,
     "metadata": {},
     "output_type": "execute_result"
    }
   ],
   "source": [
    "v.lstrip()"
   ]
  },
  {
   "cell_type": "code",
   "execution_count": 143,
   "id": "e91dd8a4",
   "metadata": {},
   "outputs": [
    {
     "data": {
      "text/plain": [
       "' viidsjfiofay '"
      ]
     },
     "execution_count": 143,
     "metadata": {},
     "output_type": "execute_result"
    }
   ],
   "source": [
    "v.replace('j' , 'idsjfiof')"
   ]
  },
  {
   "cell_type": "code",
   "execution_count": 149,
   "id": "7da644aa",
   "metadata": {},
   "outputs": [
    {
     "data": {
      "text/plain": [
       "'vijay   bhat'"
      ]
     },
     "execution_count": 149,
     "metadata": {},
     "output_type": "execute_result"
    }
   ],
   "source": [
    "'vijay\\tbhat'.expandtabs()"
   ]
  },
  {
   "cell_type": "code",
   "execution_count": 152,
   "id": "a31995f1",
   "metadata": {},
   "outputs": [
    {
     "ename": "AttributeError",
     "evalue": "'str' object has no attribute 'centre'",
     "output_type": "error",
     "traceback": [
      "\u001b[1;31m---------------------------------------------------------------------------\u001b[0m",
      "\u001b[1;31mAttributeError\u001b[0m                            Traceback (most recent call last)",
      "\u001b[1;32m~\\AppData\\Local\\Temp/ipykernel_19952/2278284762.py\u001b[0m in \u001b[0;36m<module>\u001b[1;34m\u001b[0m\n\u001b[1;32m----> 1\u001b[1;33m \u001b[0mv\u001b[0m\u001b[1;33m.\u001b[0m\u001b[0mcentre\u001b[0m\u001b[1;33m(\u001b[0m\u001b[1;36m40\u001b[0m \u001b[1;33m,\u001b[0m\u001b[1;34m'%'\u001b[0m\u001b[1;33m)\u001b[0m\u001b[1;33m\u001b[0m\u001b[1;33m\u001b[0m\u001b[0m\n\u001b[0m",
      "\u001b[1;31mAttributeError\u001b[0m: 'str' object has no attribute 'centre'"
     ]
    }
   ],
   "source": [
    "v.centre(40 ,'%')"
   ]
  },
  {
   "cell_type": "code",
   "execution_count": null,
   "id": "e394a00c",
   "metadata": {},
   "outputs": [],
   "source": []
  },
  {
   "cell_type": "code",
   "execution_count": null,
   "id": "ce5c5740",
   "metadata": {},
   "outputs": [],
   "source": []
  }
 ],
 "metadata": {
  "kernelspec": {
   "display_name": "Python 3 (ipykernel)",
   "language": "python",
   "name": "python3"
  },
  "language_info": {
   "codemirror_mode": {
    "name": "ipython",
    "version": 3
   },
   "file_extension": ".py",
   "mimetype": "text/x-python",
   "name": "python",
   "nbconvert_exporter": "python",
   "pygments_lexer": "ipython3",
   "version": "3.9.7"
  }
 },
 "nbformat": 4,
 "nbformat_minor": 5
}
